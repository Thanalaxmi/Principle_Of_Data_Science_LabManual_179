{
 "cells": [
  {
   "cell_type": "code",
   "execution_count": 1,
   "id": "c01ec002",
   "metadata": {},
   "outputs": [
    {
     "data": {
      "text/html": [
       "<div>\n",
       "<style scoped>\n",
       "    .dataframe tbody tr th:only-of-type {\n",
       "        vertical-align: middle;\n",
       "    }\n",
       "\n",
       "    .dataframe tbody tr th {\n",
       "        vertical-align: top;\n",
       "    }\n",
       "\n",
       "    .dataframe thead th {\n",
       "        text-align: right;\n",
       "    }\n",
       "</style>\n",
       "<table border=\"1\" class=\"dataframe\">\n",
       "  <thead>\n",
       "    <tr style=\"text-align: right;\">\n",
       "      <th></th>\n",
       "      <th>PassengerId</th>\n",
       "      <th>Survived</th>\n",
       "      <th>Pclass</th>\n",
       "      <th>Name</th>\n",
       "      <th>Sex</th>\n",
       "      <th>Age</th>\n",
       "      <th>SibSp</th>\n",
       "      <th>Parch</th>\n",
       "      <th>Ticket</th>\n",
       "      <th>Fare</th>\n",
       "      <th>Cabin</th>\n",
       "      <th>Embarked</th>\n",
       "    </tr>\n",
       "  </thead>\n",
       "  <tbody>\n",
       "    <tr>\n",
       "      <th>0</th>\n",
       "      <td>1</td>\n",
       "      <td>0</td>\n",
       "      <td>3</td>\n",
       "      <td>Braund, Mr. Owen Harris</td>\n",
       "      <td>male</td>\n",
       "      <td>22.0</td>\n",
       "      <td>1</td>\n",
       "      <td>0</td>\n",
       "      <td>A/5 21171</td>\n",
       "      <td>7.2500</td>\n",
       "      <td>NaN</td>\n",
       "      <td>S</td>\n",
       "    </tr>\n",
       "    <tr>\n",
       "      <th>1</th>\n",
       "      <td>2</td>\n",
       "      <td>1</td>\n",
       "      <td>1</td>\n",
       "      <td>Cumings, Mrs. John Bradley (Florence Briggs Th...</td>\n",
       "      <td>female</td>\n",
       "      <td>38.0</td>\n",
       "      <td>1</td>\n",
       "      <td>0</td>\n",
       "      <td>PC 17599</td>\n",
       "      <td>71.2833</td>\n",
       "      <td>C85</td>\n",
       "      <td>C</td>\n",
       "    </tr>\n",
       "    <tr>\n",
       "      <th>2</th>\n",
       "      <td>3</td>\n",
       "      <td>1</td>\n",
       "      <td>3</td>\n",
       "      <td>Heikkinen, Miss. Laina</td>\n",
       "      <td>female</td>\n",
       "      <td>26.0</td>\n",
       "      <td>0</td>\n",
       "      <td>0</td>\n",
       "      <td>STON/O2. 3101282</td>\n",
       "      <td>7.9250</td>\n",
       "      <td>NaN</td>\n",
       "      <td>S</td>\n",
       "    </tr>\n",
       "    <tr>\n",
       "      <th>3</th>\n",
       "      <td>4</td>\n",
       "      <td>1</td>\n",
       "      <td>1</td>\n",
       "      <td>Futrelle, Mrs. Jacques Heath (Lily May Peel)</td>\n",
       "      <td>female</td>\n",
       "      <td>35.0</td>\n",
       "      <td>1</td>\n",
       "      <td>0</td>\n",
       "      <td>113803</td>\n",
       "      <td>53.1000</td>\n",
       "      <td>C123</td>\n",
       "      <td>S</td>\n",
       "    </tr>\n",
       "    <tr>\n",
       "      <th>4</th>\n",
       "      <td>5</td>\n",
       "      <td>0</td>\n",
       "      <td>3</td>\n",
       "      <td>Allen, Mr. William Henry</td>\n",
       "      <td>male</td>\n",
       "      <td>35.0</td>\n",
       "      <td>0</td>\n",
       "      <td>0</td>\n",
       "      <td>373450</td>\n",
       "      <td>8.0500</td>\n",
       "      <td>NaN</td>\n",
       "      <td>S</td>\n",
       "    </tr>\n",
       "  </tbody>\n",
       "</table>\n",
       "</div>"
      ],
      "text/plain": [
       "   PassengerId  Survived  Pclass  \\\n",
       "0            1         0       3   \n",
       "1            2         1       1   \n",
       "2            3         1       3   \n",
       "3            4         1       1   \n",
       "4            5         0       3   \n",
       "\n",
       "                                                Name     Sex   Age  SibSp  \\\n",
       "0                            Braund, Mr. Owen Harris    male  22.0      1   \n",
       "1  Cumings, Mrs. John Bradley (Florence Briggs Th...  female  38.0      1   \n",
       "2                             Heikkinen, Miss. Laina  female  26.0      0   \n",
       "3       Futrelle, Mrs. Jacques Heath (Lily May Peel)  female  35.0      1   \n",
       "4                           Allen, Mr. William Henry    male  35.0      0   \n",
       "\n",
       "   Parch            Ticket     Fare Cabin Embarked  \n",
       "0      0         A/5 21171   7.2500   NaN        S  \n",
       "1      0          PC 17599  71.2833   C85        C  \n",
       "2      0  STON/O2. 3101282   7.9250   NaN        S  \n",
       "3      0            113803  53.1000  C123        S  \n",
       "4      0            373450   8.0500   NaN        S  "
      ]
     },
     "execution_count": 1,
     "metadata": {},
     "output_type": "execute_result"
    }
   ],
   "source": [
    "import pandas as pd\n",
    "df = pd.read_csv(r'C:\\Users\\Tcs\\Downloads\\Titanic-Dataset.csv')\n",
    "df.head()"
   ]
  },
  {
   "cell_type": "code",
   "execution_count": 6,
   "id": "533bff49",
   "metadata": {},
   "outputs": [
    {
     "name": "stdout",
     "output_type": "stream",
     "text": [
      "(891, 12)\n",
      "<class 'pandas.core.frame.DataFrame'>\n",
      "RangeIndex: 891 entries, 0 to 890\n",
      "Data columns (total 12 columns):\n",
      " #   Column       Non-Null Count  Dtype  \n",
      "---  ------       --------------  -----  \n",
      " 0   PassengerId  891 non-null    int64  \n",
      " 1   Survived     891 non-null    int64  \n",
      " 2   Pclass       891 non-null    int64  \n",
      " 3   Name         891 non-null    object \n",
      " 4   Sex          891 non-null    object \n",
      " 5   Age          714 non-null    float64\n",
      " 6   SibSp        891 non-null    int64  \n",
      " 7   Parch        891 non-null    int64  \n",
      " 8   Ticket       891 non-null    object \n",
      " 9   Fare         891 non-null    float64\n",
      " 10  Cabin        204 non-null    object \n",
      " 11  Embarked     889 non-null    object \n",
      "dtypes: float64(2), int64(5), object(5)\n",
      "memory usage: 83.7+ KB\n"
     ]
    },
    {
     "data": {
      "text/html": [
       "<div>\n",
       "<style scoped>\n",
       "    .dataframe tbody tr th:only-of-type {\n",
       "        vertical-align: middle;\n",
       "    }\n",
       "\n",
       "    .dataframe tbody tr th {\n",
       "        vertical-align: top;\n",
       "    }\n",
       "\n",
       "    .dataframe thead th {\n",
       "        text-align: right;\n",
       "    }\n",
       "</style>\n",
       "<table border=\"1\" class=\"dataframe\">\n",
       "  <thead>\n",
       "    <tr style=\"text-align: right;\">\n",
       "      <th></th>\n",
       "      <th>PassengerId</th>\n",
       "      <th>Survived</th>\n",
       "      <th>Pclass</th>\n",
       "      <th>Age</th>\n",
       "      <th>SibSp</th>\n",
       "      <th>Parch</th>\n",
       "      <th>Fare</th>\n",
       "    </tr>\n",
       "  </thead>\n",
       "  <tbody>\n",
       "    <tr>\n",
       "      <th>count</th>\n",
       "      <td>891.000000</td>\n",
       "      <td>891.000000</td>\n",
       "      <td>891.000000</td>\n",
       "      <td>714.000000</td>\n",
       "      <td>891.000000</td>\n",
       "      <td>891.000000</td>\n",
       "      <td>891.000000</td>\n",
       "    </tr>\n",
       "    <tr>\n",
       "      <th>mean</th>\n",
       "      <td>446.000000</td>\n",
       "      <td>0.383838</td>\n",
       "      <td>2.308642</td>\n",
       "      <td>29.699118</td>\n",
       "      <td>0.523008</td>\n",
       "      <td>0.381594</td>\n",
       "      <td>32.204208</td>\n",
       "    </tr>\n",
       "    <tr>\n",
       "      <th>std</th>\n",
       "      <td>257.353842</td>\n",
       "      <td>0.486592</td>\n",
       "      <td>0.836071</td>\n",
       "      <td>14.526497</td>\n",
       "      <td>1.102743</td>\n",
       "      <td>0.806057</td>\n",
       "      <td>49.693429</td>\n",
       "    </tr>\n",
       "    <tr>\n",
       "      <th>min</th>\n",
       "      <td>1.000000</td>\n",
       "      <td>0.000000</td>\n",
       "      <td>1.000000</td>\n",
       "      <td>0.420000</td>\n",
       "      <td>0.000000</td>\n",
       "      <td>0.000000</td>\n",
       "      <td>0.000000</td>\n",
       "    </tr>\n",
       "    <tr>\n",
       "      <th>25%</th>\n",
       "      <td>223.500000</td>\n",
       "      <td>0.000000</td>\n",
       "      <td>2.000000</td>\n",
       "      <td>20.125000</td>\n",
       "      <td>0.000000</td>\n",
       "      <td>0.000000</td>\n",
       "      <td>7.910400</td>\n",
       "    </tr>\n",
       "    <tr>\n",
       "      <th>50%</th>\n",
       "      <td>446.000000</td>\n",
       "      <td>0.000000</td>\n",
       "      <td>3.000000</td>\n",
       "      <td>28.000000</td>\n",
       "      <td>0.000000</td>\n",
       "      <td>0.000000</td>\n",
       "      <td>14.454200</td>\n",
       "    </tr>\n",
       "    <tr>\n",
       "      <th>75%</th>\n",
       "      <td>668.500000</td>\n",
       "      <td>1.000000</td>\n",
       "      <td>3.000000</td>\n",
       "      <td>38.000000</td>\n",
       "      <td>1.000000</td>\n",
       "      <td>0.000000</td>\n",
       "      <td>31.000000</td>\n",
       "    </tr>\n",
       "    <tr>\n",
       "      <th>max</th>\n",
       "      <td>891.000000</td>\n",
       "      <td>1.000000</td>\n",
       "      <td>3.000000</td>\n",
       "      <td>80.000000</td>\n",
       "      <td>8.000000</td>\n",
       "      <td>6.000000</td>\n",
       "      <td>512.329200</td>\n",
       "    </tr>\n",
       "  </tbody>\n",
       "</table>\n",
       "</div>"
      ],
      "text/plain": [
       "       PassengerId    Survived      Pclass         Age       SibSp  \\\n",
       "count   891.000000  891.000000  891.000000  714.000000  891.000000   \n",
       "mean    446.000000    0.383838    2.308642   29.699118    0.523008   \n",
       "std     257.353842    0.486592    0.836071   14.526497    1.102743   \n",
       "min       1.000000    0.000000    1.000000    0.420000    0.000000   \n",
       "25%     223.500000    0.000000    2.000000   20.125000    0.000000   \n",
       "50%     446.000000    0.000000    3.000000   28.000000    0.000000   \n",
       "75%     668.500000    1.000000    3.000000   38.000000    1.000000   \n",
       "max     891.000000    1.000000    3.000000   80.000000    8.000000   \n",
       "\n",
       "            Parch        Fare  \n",
       "count  891.000000  891.000000  \n",
       "mean     0.381594   32.204208  \n",
       "std      0.806057   49.693429  \n",
       "min      0.000000    0.000000  \n",
       "25%      0.000000    7.910400  \n",
       "50%      0.000000   14.454200  \n",
       "75%      0.000000   31.000000  \n",
       "max      6.000000  512.329200  "
      ]
     },
     "execution_count": 6,
     "metadata": {},
     "output_type": "execute_result"
    }
   ],
   "source": [
    "print(df.shape)\n",
    "df.info()\n",
    "df.describe()"
   ]
  },
  {
   "cell_type": "code",
   "execution_count": 8,
   "id": "e63140e1",
   "metadata": {},
   "outputs": [
    {
     "name": "stdout",
     "output_type": "stream",
     "text": [
      "0\n"
     ]
    }
   ],
   "source": [
    "from sklearn.impute import SimpleImputer\n",
    "imputer =  SimpleImputer(strategy = 'mean')\n",
    "df['Age'] = imputer.fit_transform(df[['Age']])\n",
    "print(df['Age'].isnull().sum())"
   ]
  },
  {
   "cell_type": "code",
   "execution_count": 37,
   "id": "51ca4578",
   "metadata": {},
   "outputs": [
    {
     "name": "stdout",
     "output_type": "stream",
     "text": [
      "Empty DataFrame\n",
      "Columns: [Name, Age, Pclass]\n",
      "Index: []\n"
     ]
    }
   ],
   "source": []
  },
  {
   "cell_type": "code",
   "execution_count": 10,
   "id": "1220fda4",
   "metadata": {},
   "outputs": [
    {
     "name": "stdout",
     "output_type": "stream",
     "text": [
      "0      Unknown\n",
      "1          C85\n",
      "2      Unknown\n",
      "3         C123\n",
      "4      Unknown\n",
      "        ...   \n",
      "886    Unknown\n",
      "887        B42\n",
      "888    Unknown\n",
      "889       C148\n",
      "890    Unknown\n",
      "Name: Cabin, Length: 891, dtype: object\n"
     ]
    }
   ],
   "source": [
    "df['Cabin'] = df['Cabin'].fillna(value='Unknown')\n",
    "print(df['Cabin'])"
   ]
  },
  {
   "cell_type": "code",
   "execution_count": 13,
   "id": "e42eb464",
   "metadata": {},
   "outputs": [
    {
     "name": "stdout",
     "output_type": "stream",
     "text": [
      "Missing before: 2\n",
      "Missing after: 0\n"
     ]
    }
   ],
   "source": [
    "print(\"Missing before:\", df['Embarked'].isnull().sum())\n",
    "mode_value = df['Embarked'].mode()[0]\n",
    "df['Embarked'] = df['Embarked'].fillna(mode_value)\n",
    "print(\"Missing after:\", df['Embarked'].isnull().sum())"
   ]
  },
  {
   "cell_type": "code",
   "execution_count": 16,
   "id": "07b59c2a",
   "metadata": {},
   "outputs": [
    {
     "name": "stdout",
     "output_type": "stream",
     "text": [
      "0      1\n",
      "1      0\n",
      "2      0\n",
      "3      0\n",
      "4      1\n",
      "      ..\n",
      "886    1\n",
      "887    0\n",
      "888    0\n",
      "889    1\n",
      "890    1\n",
      "Name: Sex, Length: 891, dtype: int64\n"
     ]
    }
   ],
   "source": [
    "from sklearn.preprocessing import LabelEncoder\n",
    "le = LabelEncoder()\n",
    "df['Sex']=le.fit_transform(df['Sex'])\n",
    "print(df['Sex'])"
   ]
  },
  {
   "cell_type": "code",
   "execution_count": null,
   "id": "0314aca3",
   "metadata": {},
   "outputs": [],
   "source": []
  },
  {
   "cell_type": "code",
   "execution_count": 19,
   "id": "080dea62",
   "metadata": {},
   "outputs": [
    {
     "data": {
      "image/png": "[encoded data removed]",
      "text/plain": [
       "<Figure size 432x288 with 1 Axes>"
      ]
     },
     "metadata": {},
     "output_type": "display_data"
    }
   ],
   "source": [
    "import seaborn as sns\n",
    "import matplotlib.pyplot as plt\n",
    "sns.set(style=\"whitegrid\")\n",
    "sns.countplot(x='Pclass',data=df)\n",
    "plt.show()"
   ]
  },
  {
   "cell_type": "code",
   "execution_count": 28,
   "id": "4de30b8c",
   "metadata": {},
   "outputs": [
    {
     "name": "stdout",
     "output_type": "stream",
     "text": [
      "1      Cumings, Mrs. John Bradley (Florence Briggs Th...\n",
      "2                                 Heikkinen, Miss. Laina\n",
      "3           Futrelle, Mrs. Jacques Heath (Lily May Peel)\n",
      "8      Johnson, Mrs. Oscar W (Elisabeth Vilhelmina Berg)\n",
      "9                    Nasser, Mrs. Nicholas (Adele Achem)\n",
      "                             ...                        \n",
      "874                Abelson, Mrs. Samuel (Hannah Wizosky)\n",
      "875                     Najib, Miss. Adele Kiamie \"Jane\"\n",
      "879        Potter, Mrs. Thomas Jr (Lily Alexenia Wilson)\n",
      "880         Shelley, Mrs. William (Imanita Parrish Hall)\n",
      "887                         Graham, Miss. Margaret Edith\n",
      "Name: Name, Length: 233, dtype: object\n"
     ]
    }
   ],
   "source": [
    "survived_females = df[(df['Sex'] == 0) & (df['Survived'] == 1)]\n",
    "print(survived_females['Name'])"
   ]
  },
  {
   "cell_type": "code",
   "execution_count": 29,
   "id": "9ef6777d",
   "metadata": {},
   "outputs": [
    {
     "name": "stdout",
     "output_type": "stream",
     "text": [
      "     PassengerId  Survived  Pclass                                      Name  \\\n",
      "0              1         0       3                   Braund, Mr. Owen Harris   \n",
      "2              3         1       3                    Heikkinen, Miss. Laina   \n",
      "4              5         0       3                  Allen, Mr. William Henry   \n",
      "5              6         0       3                          Moran, Mr. James   \n",
      "7              8         0       3            Palsson, Master. Gosta Leonard   \n",
      "..           ...       ...     ...                                       ...   \n",
      "882          883         0       3              Dahlberg, Miss. Gerda Ulrika   \n",
      "884          885         0       3                    Sutehall, Mr. Henry Jr   \n",
      "885          886         0       3      Rice, Mrs. William (Margaret Norton)   \n",
      "888          889         0       3  Johnston, Miss. Catherine Helen \"Carrie\"   \n",
      "890          891         0       3                       Dooley, Mr. Patrick   \n",
      "\n",
      "     Sex           Age  SibSp  Parch            Ticket      Fare    Cabin  \\\n",
      "0      1 -5.924806e-01      1      0         A/5 21171 -0.502445  Unknown   \n",
      "2      0 -2.846632e-01      0      0  STON/O2. 3101282 -0.488854  Unknown   \n",
      "4      1  4.079260e-01      0      0            373450 -0.486337  Unknown   \n",
      "5      1 -2.232906e-16      0      0            330877 -0.478116  Unknown   \n",
      "7      1 -2.131568e+00      3      1            349909 -0.224083  Unknown   \n",
      "..   ...           ...    ...    ...               ...       ...      ...   \n",
      "882    0 -5.924806e-01      0      0              7552 -0.436671  Unknown   \n",
      "884    1 -3.616175e-01      0      0   SOTON/OQ 392076 -0.506472  Unknown   \n",
      "885    0  7.157434e-01      0      5            382652 -0.061999  Unknown   \n",
      "888    0 -2.232906e-16      1      2        W./C. 6607 -0.176263  Unknown   \n",
      "890    1  1.770629e-01      0      0            370376 -0.492378  Unknown   \n",
      "\n",
      "    Embarked Embaked  \n",
      "0          S       S  \n",
      "2          S       S  \n",
      "4          S       S  \n",
      "5          Q       Q  \n",
      "7          S       S  \n",
      "..       ...     ...  \n",
      "882        S       S  \n",
      "884        S       S  \n",
      "885        Q       Q  \n",
      "888        S       S  \n",
      "890        Q       Q  \n",
      "\n",
      "[491 rows x 13 columns]\n"
     ]
    }
   ],
   "source": [
    "young_3rd_class = df[(df['Pclass'] == 3) & (df['Age'] < 18)]\n",
    "print(young_3rd_class)"
   ]
  },
  {
   "cell_type": "code",
   "execution_count": 41,
   "id": "ba166937",
   "metadata": {},
   "outputs": [
    {
     "name": "stdout",
     "output_type": "stream",
     "text": [
      "Empty DataFrame\n",
      "Columns: [Name, Age, Pclass]\n",
      "Index: []\n"
     ]
    }
   ],
   "source": [
    "df['Age'].fillna(df['Age'].mean(), inplace=True)\n",
    "passengers_class1_over40 = df[(df['Pclass'] == 1) & (df['Age'] > 40)]\n",
    "print(passengers_class1_over40[['Name', 'Age', 'Pclass']])\n",
    "\n"
   ]
  },
  {
   "cell_type": "code",
   "execution_count": 51,
   "id": "d5bb62fc",
   "metadata": {},
   "outputs": [
    {
     "name": "stdout",
     "output_type": "stream",
     "text": [
      "Empty DataFrame\n",
      "Columns: [Name, Age, Pclass, Survived]\n",
      "Index: []\n"
     ]
    }
   ],
   "source": [
    "survived_class1_over40 = passengers_class1_over40[passengers_class1_over40['Survived'] == 1]\n",
    "print(survived_class1_over40[['Name', 'Age', 'Pclass', 'Survived']])\n"
   ]
  },
  {
   "cell_type": "code",
   "execution_count": 45,
   "id": "1e6b3c2b",
   "metadata": {},
   "outputs": [
    {
     "name": "stdout",
     "output_type": "stream",
     "text": [
      "                                                  Name Embarked  Pclass\n",
      "9                  Nasser, Mrs. Nicholas (Adele Achem)        C       2\n",
      "43            Laroche, Miss. Simonne Marie Anne Andree        C       2\n",
      "122                               Nasser, Mr. Nicholas        C       2\n",
      "135                                 Richard, Mr. Emile        C       2\n",
      "181                                   Pernot, Mr. Rene        C       2\n",
      "292                             Levy, Mr. Rene Jacques        C       2\n",
      "308                                Abelson, Mr. Samuel        C       2\n",
      "361                          del Carlo, Mr. Sebastiano        C       2\n",
      "389                              Lehmann, Miss. Bertha        C       2\n",
      "473       Jerwan, Mrs. Amin S (Marie Marthe Thuillard)        C       2\n",
      "547                         Padro y Manent, Mr. Julian        C       2\n",
      "608  Laroche, Mrs. Joseph (Juliette Marie Louise La...        C       2\n",
      "685             Laroche, Mr. Joseph Philippe Lemercier        C       2\n",
      "817                                 Mallet, Mr. Albert        C       2\n",
      "827                              Mallet, Master. Andre        C       2\n",
      "866                       Duran y More, Miss. Asuncion        C       2\n",
      "874              Abelson, Mrs. Samuel (Hannah Wizosky)        C       2\n"
     ]
    }
   ],
   "source": [
    "embarked_C_class2 = df[(df['Embarked'] == 'C') & (df['Pclass'] == 2)]\n",
    "print(embarked_C_class2[['Name', 'Embarked', 'Pclass']])\n"
   ]
  },
  {
   "cell_type": "code",
   "execution_count": 46,
   "id": "0649af94",
   "metadata": {},
   "outputs": [
    {
     "name": "stdout",
     "output_type": "stream",
     "text": [
      "                                                  Name  SibSp\n",
      "7                       Palsson, Master. Gosta Leonard      3\n",
      "16                                Rice, Master. Eugene      4\n",
      "24                       Palsson, Miss. Torborg Danira      3\n",
      "27                      Fortune, Mr. Charles Alexander      3\n",
      "50                          Panula, Master. Juha Niilo      4\n",
      "59                  Goodwin, Master. William Frederick      5\n",
      "63                               Skoog, Master. Harald      3\n",
      "68                     Andersson, Miss. Erna Alexandra      4\n",
      "71                          Goodwin, Miss. Lillian Amy      5\n",
      "85   Backstrom, Mrs. Karl Alfred (Maria Mathilda Gu...      3\n",
      "88                          Fortune, Miss. Mabel Helen      3\n",
      "119                  Andersson, Miss. Ellis Anna Maria      4\n",
      "159                         Sage, Master. Thomas Henry      8\n",
      "164                       Panula, Master. Eino Viljami      4\n",
      "171                               Rice, Master. Arthur      4\n",
      "176                      Lefebre, Master. Henry Forbes      3\n",
      "180                       Sage, Miss. Constance Gladys      8\n",
      "182              Asplund, Master. Clarence Gustaf Hugo      4\n",
      "201                                Sage, Mr. Frederick      8\n",
      "229                            Lefebre, Miss. Mathilde      3\n",
      "233                     Asplund, Miss. Lillian Gertrud      4\n",
      "261                  Asplund, Master. Edvin Rojj Felix      4\n",
      "266                          Panula, Mr. Ernesti Arvid      4\n",
      "278                                 Rice, Master. Eric      4\n",
      "324                           Sage, Mr. George John Jr      8\n",
      "341                     Fortune, Miss. Alice Elizabeth      3\n",
      "374                         Palsson, Miss. Stina Viola      3\n",
      "386                    Goodwin, Master. Sidney Leonard      5\n",
      "409                                 Lefebre, Miss. Ida      3\n",
      "480                     Goodwin, Master. Harold Victor      5\n",
      "485                             Lefebre, Miss. Jeannie      3\n",
      "541               Andersson, Miss. Ingeborg Constanzia      4\n",
      "542                  Andersson, Miss. Sigrid Elisabeth      4\n",
      "634                                 Skoog, Miss. Mabel      3\n",
      "642                      Skoog, Miss. Margit Elizabeth      3\n",
      "683                        Goodwin, Mr. Charles Edward      5\n",
      "686                           Panula, Mr. Jaako Arnold      4\n",
      "726        Renouf, Mrs. Peter Henry (Lillian Jefferys)      3\n",
      "787                          Rice, Master. George Hugh      4\n",
      "792                            Sage, Miss. Stella Anna      8\n",
      "813                 Andersson, Miss. Ebba Iris Alfrida      4\n",
      "819                       Skoog, Master. Karl Thorsten      3\n",
      "824                       Panula, Master. Urho Abraham      4\n",
      "846                           Sage, Mr. Douglas Bullen      8\n",
      "850            Andersson, Master. Sigvard Harald Elias      4\n",
      "863                  Sage, Miss. Dorothy Edith \"Dolly\"      8\n"
     ]
    }
   ],
   "source": [
    "\n",
    "more_than_2_sibsp = df[df['SibSp'] > 2]\n",
    "print(more_than_2_sibsp[['Name', 'SibSp']])\n"
   ]
  },
  {
   "cell_type": "code",
   "execution_count": 44,
   "id": "7f8d6f7c",
   "metadata": {},
   "outputs": [
    {
     "name": "stdout",
     "output_type": "stream",
     "text": [
      "Before Scaler\n",
      "0     -5.924806e-01\n",
      "1      6.387890e-01\n",
      "2     -2.846632e-01\n",
      "3      4.079260e-01\n",
      "4      4.079260e-01\n",
      "           ...     \n",
      "886   -2.077088e-01\n",
      "887   -8.233437e-01\n",
      "888   -2.232906e-16\n",
      "889   -2.846632e-01\n",
      "890    1.770629e-01\n",
      "Name: Age, Length: 891, dtype: float64 \n",
      " 0     -0.502445\n",
      "1      0.786845\n",
      "2     -0.488854\n",
      "3      0.420730\n",
      "4     -0.486337\n",
      "         ...   \n",
      "886   -0.386671\n",
      "887   -0.044381\n",
      "888   -0.176263\n",
      "889   -0.044381\n",
      "890   -0.492378\n",
      "Name: Fare, Length: 891, dtype: float64\n",
      "After Scaler\n",
      "0     -5.924806e-01\n",
      "1      6.387890e-01\n",
      "2     -2.846632e-01\n",
      "3      4.079260e-01\n",
      "4      4.079260e-01\n",
      "           ...     \n",
      "886   -2.077088e-01\n",
      "887   -8.233437e-01\n",
      "888   -1.834173e-16\n",
      "889   -2.846632e-01\n",
      "890    1.770629e-01\n",
      "Name: Age, Length: 891, dtype: float64 \n",
      " 0     -0.502445\n",
      "1      0.786845\n",
      "2     -0.488854\n",
      "3      0.420730\n",
      "4     -0.486337\n",
      "         ...   \n",
      "886   -0.386671\n",
      "887   -0.044381\n",
      "888   -0.176263\n",
      "889   -0.044381\n",
      "890   -0.492378\n",
      "Name: Fare, Length: 891, dtype: float64\n"
     ]
    }
   ],
   "source": [
    "from sklearn.preprocessing import StandardScaler\n",
    "scaler = StandardScaler()\n",
    "print(\"Before Scaler\")\n",
    "print(df['Age'],\"\\n\",df['Fare'])\n",
    "df[['Age','Fare']] = scaler.fit_transform(df[['Age','Fare']])\n",
    "print(\"After Scaler\")\n",
    "print(df['Age'],\"\\n\",df['Fare'])"
   ]
  },
  {
   "cell_type": "code",
   "execution_count": 47,
   "id": "b0044fdb",
   "metadata": {},
   "outputs": [
    {
     "name": "stdout",
     "output_type": "stream",
     "text": [
      "                                     Name  Survived  SibSp  Parch\n",
      "4                Allen, Mr. William Henry         0      0      0\n",
      "5                        Moran, Mr. James         0      0      0\n",
      "6                 McCarthy, Mr. Timothy J         0      0      0\n",
      "12         Saundercock, Mr. William Henry         0      0      0\n",
      "14   Vestrom, Miss. Hulda Amanda Adolfina         0      0      0\n",
      "..                                    ...       ...    ...    ...\n",
      "882          Dahlberg, Miss. Gerda Ulrika         0      0      0\n",
      "883         Banfield, Mr. Frederick James         0      0      0\n",
      "884                Sutehall, Mr. Henry Jr         0      0      0\n",
      "886                 Montvila, Rev. Juozas         0      0      0\n",
      "890                   Dooley, Mr. Patrick         0      0      0\n",
      "\n",
      "[374 rows x 4 columns]\n"
     ]
    }
   ],
   "source": [
    "no_family_died = df[(df['Survived'] == 0) & (df['SibSp'] == 0) & (df['Parch'] == 0)]\n",
    "print(no_family_died[['Name', 'Survived', 'SibSp', 'Parch']])\n"
   ]
  },
  {
   "cell_type": "code",
   "execution_count": 48,
   "id": "b0a8c93b",
   "metadata": {},
   "outputs": [
    {
     "name": "stdout",
     "output_type": "stream",
     "text": [
      "                                          Name       Age  Survived\n",
      "630       Barkworth, Mr. Algernon Henry Wilson  3.870872         1\n",
      "483                     Turkula, Mrs. (Hedwig)  2.562648         1\n",
      "275          Andrews, Miss. Kornelia Theodosia  2.562648         1\n",
      "570                         Harris, Mr. George  2.485693         1\n",
      "829  Stone, Mrs. George Nelson (Martha Evelyn)  2.485693         1\n"
     ]
    }
   ],
   "source": [
    "top5_oldest_survived = df[df['Survived'] == 1].sort_values(by='Age', ascending=False).head(5)\n",
    "print(top5_oldest_survived[['Name', 'Age', 'Survived']])\n"
   ]
  },
  {
   "cell_type": "code",
   "execution_count": 49,
   "id": "2076f458",
   "metadata": {},
   "outputs": [
    {
     "name": "stdout",
     "output_type": "stream",
     "text": [
      "Empty DataFrame\n",
      "Columns: [Name, Fare]\n",
      "Index: []\n"
     ]
    }
   ],
   "source": [
    "zero_fare = df[df['Fare'] == 0]\n",
    "print(zero_fare[['Name', 'Fare']])\n"
   ]
  },
  {
   "cell_type": "code",
   "execution_count": 50,
   "id": "45d4572d",
   "metadata": {},
   "outputs": [
    {
     "name": "stdout",
     "output_type": "stream",
     "text": [
      "Train shape: (712, 7)\n",
      "Test shape: (179, 7)\n"
     ]
    }
   ],
   "source": [
    "from sklearn.model_selection import train_test_split\n",
    "df.dropna(subset=['Age', 'Fare', 'Embarked', 'Sex'], inplace=True)\n",
    "\n",
    "\n",
    "df_encoded = df.copy()\n",
    "df_encoded['Sex'] = df_encoded['Sex'].map({'male': 0, 'female': 1})\n",
    "df_encoded['Embarked'] = df_encoded['Embarked'].map({'C': 0, 'Q': 1, 'S': 2})\n",
    "\n",
    "\n",
    "X = df_encoded[['Pclass', 'Sex', 'Age', 'Fare', 'SibSp', 'Parch', 'Embarked']]\n",
    "y = df_encoded['Survived']\n",
    "\n",
    "X_train, X_test, y_train, y_test = train_test_split(X, y, test_size=0.2, random_state=42)\n",
    "\n",
    "print(\"Train shape:\", X_train.shape)\n",
    "print(\"Test shape:\", X_test.shape)\n"
   ]
  },
  {
   "cell_type": "code",
   "execution_count": null,
   "id": "c0f2badc",
   "metadata": {},
   "outputs": [],
   "source": []
  }
 ],
 "metadata": {
  "kernelspec": {
   "display_name": "Python 3 (ipykernel)",
   "language": "python",
   "name": "python3"
  },
  "language_info": {
   "codemirror_mode": {
    "name": "ipython",
    "version": 3
   },
   "file_extension": ".py",
   "mimetype": "text/x-python",
   "name": "python",
   "nbconvert_exporter": "python",
   "pygments_lexer": "ipython3",
   "version": "3.9.12"
  }
 },
 "nbformat": 4,
 "nbformat_minor": 5
}
